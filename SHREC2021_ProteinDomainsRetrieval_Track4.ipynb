{
 "cells": [
  {
   "cell_type": "markdown",
   "metadata": {},
   "source": [
    "\n",
    "# Surfaces-based Protein Domains Retrieval (SHREC'21 Track4)\n",
    "\n",
    "\n",
    "## INTRODUCTION\n",
    "This notebook presents a Step-by-Step implementation guidance for our novel 3D shape descriptor or retrieval method, called the APPFD-FK-GMM. We apply this retrieval method for the retrieval task of the SHREC 2021 dataset of Surface-based Protein Domains.\n",
    "* Further details regarding this retrieval track can be found **[here](http://shrec2021.drugdesign.fr/)**.\n",
    "* For full code implementation of this method, please go **[here](https://github.com/KoksiHub/APPFD_FK_GMM-Method-For-SHREC-2021-Surface-based-Protein-Domains-Retrieval)**.\n",
    "\n",
    "\n",
    "## OUR TEAM\n",
    "1. Dr. Ekpo Otu (eko@aber.ac.uk)\n",
    "2. Prof. Reyer(rrz@aber.ac.uk)\n",
    "3. Prof. Yonguai (liuyo@edgehill.ac.uk)\n",
    "4. Dr. David (dah56@aber.ac.uk)\n",
    "\n",
    "\n",
    "* Please contact: [Dr. Ekpo Otu](eko@aber.ac.uk) for any issue or concern regarding this implementation."
   ]
  },
  {
   "cell_type": "code",
   "execution_count": 1,
   "metadata": {},
   "outputs": [],
   "source": [
    "# Import necessary libraries, modules, and packages\n",
    "%matplotlib inline\n",
    "import numpy as np\n",
    "import matplotlib.pyplot as plt\n",
    "import os, sys, math\n",
    "\n",
    "# SEED, in order to produce a stable output from this notebook, across different runs\n",
    "np.random.seed(28)"
   ]
  },
  {
   "cell_type": "code",
   "execution_count": null,
   "metadata": {},
   "outputs": [],
   "source": [
    "# Paths to DATASETS: QUERY and COLLECTION datasets, in the Shape-only category (i.e. .OFF triangular mesh files)\n",
    "dataset_query = \"c:/users/ekpo/desktop/query_data/\"\n",
    "dataset_collection = \"c:/users/ekpo/desktop/collection_data/\""
   ]
  },
  {
   "cell_type": "markdown",
   "metadata": {},
   "source": [
    "### NOTE:\n",
    "1. Total number of files (data) in the QUERY set is: **10**\n",
    "2. Total number of files (data) in the COLLECTION set is: **554**"
   ]
  },
  {
   "cell_type": "code",
   "execution_count": 2,
   "metadata": {},
   "outputs": [
    {
     "data": {
      "text/plain": [
       "'C:\\\\Users\\\\Ekpo\\\\Documents\\\\repos\\\\SHREC-2021-Surface-based-Protein-Domains-Retrieval-Track4'"
      ]
     },
     "metadata": {},
     "output_type": "display_data"
    },
    {
     "data": {
      "text/plain": [
       "['.git',\n",
       " '.ipynb_checkpoints',\n",
       " '01a_Queries_shrec21ProteinRetrieval_6DappfdFVgmmKDA6x1D35bins.py',\n",
       " '01b_Collection_shrec21ProteinRetrieval_6DappfdFVgmmKDA6x1D35bins.py',\n",
       " '01c_Matching_shrec21ProteinRetrieval_6DappfdFVgmmKDA6x1D35bins.py',\n",
       " '02a_Queries_shrec21ProteinRetrieval_6DappfdFVgmmKDA6x1D35bins.py',\n",
       " '02b_Collection_shrec21ProteinRetrieval_6DappfdFVgmmKDA6x1D35bins.py',\n",
       " '02c_Matching_shrec21ProteinRetrieval_6DappfdFVgmmKDA6x1D35bins.py',\n",
       " 'appfd_algorithm.py',\n",
       " 'dataset01_shape',\n",
       " 'dataset02_electro',\n",
       " 'ekpoUtilities.py',\n",
       " 'outdir_01shape',\n",
       " 'outdir_02electro',\n",
       " 'SHREC2021_ProteinDomainsRetrieval_Track4.ipynb']"
      ]
     },
     "metadata": {},
     "output_type": "display_data"
    }
   ],
   "source": [
    "# Get working directory path and check WHICH file/folders are in it\n",
    "current_path = display(os.getcwd(), os.listdir())"
   ]
  },
  {
   "cell_type": "code",
   "execution_count": null,
   "metadata": {},
   "outputs": [],
   "source": []
  }
 ],
 "metadata": {
  "kernelspec": {
   "display_name": "Python 3",
   "language": "python",
   "name": "python3"
  },
  "language_info": {
   "codemirror_mode": {
    "name": "ipython",
    "version": 3
   },
   "file_extension": ".py",
   "mimetype": "text/x-python",
   "name": "python",
   "nbconvert_exporter": "python",
   "pygments_lexer": "ipython3",
   "version": "3.6.13"
  }
 },
 "nbformat": 4,
 "nbformat_minor": 2
}
